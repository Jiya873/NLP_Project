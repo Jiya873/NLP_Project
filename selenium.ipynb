{
 "cells": [
  {
   "cell_type": "code",
   "execution_count": 1,
   "id": "f480d6b9",
   "metadata": {
    "scrolled": true
   },
   "outputs": [
    {
     "name": "stdout",
     "output_type": "stream",
     "text": [
      "Collecting selenium\n",
      "  Downloading selenium-4.29.0-py3-none-any.whl.metadata (7.1 kB)\n",
      "Requirement already satisfied: urllib3<3,>=1.26 in c:\\users\\jiyaa\\appdata\\local\\programs\\python\\python312\\lib\\site-packages (from urllib3[socks]<3,>=1.26->selenium) (2.3.0)\n",
      "Collecting trio~=0.17 (from selenium)\n",
      "  Using cached trio-0.29.0-py3-none-any.whl.metadata (8.5 kB)\n",
      "Collecting trio-websocket~=0.9 (from selenium)\n",
      "  Downloading trio_websocket-0.12.1-py3-none-any.whl.metadata (5.1 kB)\n",
      "Requirement already satisfied: certifi>=2021.10.8 in c:\\users\\jiyaa\\appdata\\local\\programs\\python\\python312\\lib\\site-packages (from selenium) (2024.12.14)\n",
      "Requirement already satisfied: typing_extensions~=4.9 in c:\\users\\jiyaa\\appdata\\local\\programs\\python\\python312\\lib\\site-packages (from selenium) (4.12.2)\n",
      "Collecting websocket-client~=1.8 (from selenium)\n",
      "  Using cached websocket_client-1.8.0-py3-none-any.whl.metadata (8.0 kB)\n",
      "Collecting attrs>=23.2.0 (from trio~=0.17->selenium)\n",
      "  Downloading attrs-25.1.0-py3-none-any.whl.metadata (10 kB)\n",
      "Collecting sortedcontainers (from trio~=0.17->selenium)\n",
      "  Using cached sortedcontainers-2.4.0-py2.py3-none-any.whl.metadata (10 kB)\n",
      "Requirement already satisfied: idna in c:\\users\\jiyaa\\appdata\\local\\programs\\python\\python312\\lib\\site-packages (from trio~=0.17->selenium) (3.10)\n",
      "Collecting outcome (from trio~=0.17->selenium)\n",
      "  Using cached outcome-1.3.0.post0-py2.py3-none-any.whl.metadata (2.6 kB)\n",
      "Collecting sniffio>=1.3.0 (from trio~=0.17->selenium)\n",
      "  Downloading sniffio-1.3.1-py3-none-any.whl.metadata (3.9 kB)\n",
      "Collecting cffi>=1.14 (from trio~=0.17->selenium)\n",
      "  Using cached cffi-1.17.1-cp312-cp312-win_amd64.whl.metadata (1.6 kB)\n",
      "Collecting wsproto>=0.14 (from trio-websocket~=0.9->selenium)\n",
      "  Using cached wsproto-1.2.0-py3-none-any.whl.metadata (5.6 kB)\n",
      "Collecting pysocks!=1.5.7,<2.0,>=1.5.6 (from urllib3[socks]<3,>=1.26->selenium)\n",
      "  Using cached PySocks-1.7.1-py3-none-any.whl.metadata (13 kB)\n",
      "Collecting pycparser (from cffi>=1.14->trio~=0.17->selenium)\n",
      "  Using cached pycparser-2.22-py3-none-any.whl.metadata (943 bytes)\n",
      "Collecting h11<1,>=0.9.0 (from wsproto>=0.14->trio-websocket~=0.9->selenium)\n",
      "  Downloading h11-0.14.0-py3-none-any.whl.metadata (8.2 kB)\n",
      "Downloading selenium-4.29.0-py3-none-any.whl (9.5 MB)\n",
      "   ---------------------------------------- 0.0/9.5 MB ? eta -:--:--\n",
      "   -- ------------------------------------- 0.5/9.5 MB 4.2 MB/s eta 0:00:03\n",
      "   -------------- ------------------------- 3.4/9.5 MB 12.6 MB/s eta 0:00:01\n",
      "   ----------------------------- ---------- 7.1/9.5 MB 15.0 MB/s eta 0:00:01\n",
      "   ---------------------------------------- 9.5/9.5 MB 14.1 MB/s eta 0:00:00\n",
      "Using cached trio-0.29.0-py3-none-any.whl (492 kB)\n",
      "Downloading trio_websocket-0.12.1-py3-none-any.whl (21 kB)\n",
      "Using cached websocket_client-1.8.0-py3-none-any.whl (58 kB)\n",
      "Downloading attrs-25.1.0-py3-none-any.whl (63 kB)\n",
      "Using cached cffi-1.17.1-cp312-cp312-win_amd64.whl (181 kB)\n",
      "Using cached outcome-1.3.0.post0-py2.py3-none-any.whl (10 kB)\n",
      "Using cached PySocks-1.7.1-py3-none-any.whl (16 kB)\n",
      "Downloading sniffio-1.3.1-py3-none-any.whl (10 kB)\n",
      "Using cached wsproto-1.2.0-py3-none-any.whl (24 kB)\n",
      "Using cached sortedcontainers-2.4.0-py2.py3-none-any.whl (29 kB)\n",
      "Downloading h11-0.14.0-py3-none-any.whl (58 kB)\n",
      "Using cached pycparser-2.22-py3-none-any.whl (117 kB)\n",
      "Installing collected packages: sortedcontainers, websocket-client, sniffio, pysocks, pycparser, h11, attrs, wsproto, outcome, cffi, trio, trio-websocket, selenium\n",
      "Successfully installed attrs-25.1.0 cffi-1.17.1 h11-0.14.0 outcome-1.3.0.post0 pycparser-2.22 pysocks-1.7.1 selenium-4.29.0 sniffio-1.3.1 sortedcontainers-2.4.0 trio-0.29.0 trio-websocket-0.12.1 websocket-client-1.8.0 wsproto-1.2.0\n"
     ]
    },
    {
     "name": "stderr",
     "output_type": "stream",
     "text": [
      "\n",
      "[notice] A new release of pip is available: 24.3.1 -> 25.0.1\n",
      "[notice] To update, run: python.exe -m pip install --upgrade pip\n"
     ]
    }
   ],
   "source": [
    "# install selenium\n",
    "!pip install -U selenium"
   ]
  },
  {
   "cell_type": "code",
   "execution_count": 2,
   "id": "5896d144",
   "metadata": {},
   "outputs": [],
   "source": [
    "# imports\n",
    "import pandas as pd\n",
    "import time\n",
    "from selenium import webdriver\n",
    "from selenium.webdriver.chrome.service import Service\n",
    "from selenium.webdriver.common.by import By\n",
    "from selenium.webdriver.common.action_chains import ActionChains as AC\n",
    "from selenium.webdriver.common.keys import Keys\n",
    "from selenium.webdriver.support.ui import Select, WebDriverWait  \n",
    "from selenium.webdriver.support import expected_conditions as EC\n",
    "from selenium.common.exceptions import NoSuchElementException, TimeoutException \n",
    "from timeit import default_timer as timer"
   ]
  },
  {
   "cell_type": "markdown",
   "id": "3ff8505c",
   "metadata": {},
   "source": [
    "## Data Gathering"
   ]
  },
  {
   "cell_type": "code",
   "execution_count": 3,
   "id": "c1b4c241",
   "metadata": {},
   "outputs": [],
   "source": [
    "# set playstore url of the app and the system path to chromedriver\n",
    "htmlpro = 'https://play.google.com/store/apps/details?id=ai.replika.app&hl=en'\n",
    "# set file path\n",
    "path = r\"C:\\Users\\jiyaa\\chromedriver.exe\""
   ]
  },
  {
   "cell_type": "code",
   "execution_count": 8,
   "id": "48cfb341",
   "metadata": {},
   "outputs": [],
   "source": [
    "# use the Service class\n",
    "service = Service(executable_path=path)\n",
    "driver = webdriver.Chrome(service=service)"
   ]
  },
  {
   "cell_type": "code",
   "execution_count": 9,
   "id": "3b352dfb",
   "metadata": {},
   "outputs": [],
   "source": [
    "# wait for the window to open \n",
    "time.sleep(15)"
   ]
  },
  {
   "cell_type": "code",
   "execution_count": 10,
   "id": "27de8398",
   "metadata": {},
   "outputs": [],
   "source": [
    "# open glovo app site on playstore\n",
    "driver.get(htmlpro)"
   ]
  },
  {
   "cell_type": "code",
   "execution_count": 11,
   "id": "e847f95b",
   "metadata": {},
   "outputs": [],
   "source": [
    "# maximize window to full screen\n",
    "driver.maximize_window()"
   ]
  },
  {
   "cell_type": "code",
   "execution_count": 12,
   "id": "f809a1e6",
   "metadata": {},
   "outputs": [],
   "source": [
    "# get home window\n",
    "home_window = driver.current_window_handle"
   ]
  },
  {
   "cell_type": "code",
   "execution_count": 13,
   "id": "f35af5c0",
   "metadata": {},
   "outputs": [],
   "source": [
    "# create a function for clickable elements \n",
    "def klick(xpath):\n",
    "    \"\"\"\n",
    "    A private function to find and click \n",
    "    on any clickable element on a webpage.\n",
    "    Its argument should be a valid XPath of\n",
    "    the corresponding element.\n",
    "    If the XPath is invalid, it returns a \n",
    "    TimeoutException after ten seconds.\n",
    "    \n",
    "    e.g. klick('//div[@class=\"dropdown\"]')\n",
    "    \"\"\"\n",
    "    wait = WebDriverWait(driver, 10)\n",
    "    locate = wait.until(EC.element_to_be_clickable((By.XPATH, xpath)))\n",
    "    locate.click()"
   ]
  },
  {
   "cell_type": "code",
   "execution_count": 16,
   "id": "6cc9faed",
   "metadata": {},
   "outputs": [],
   "source": [
    "# click \"ratings and review\" button\n",
    "klick('/html/body/c-wiz[2]/div/div/div[1]/div/div[2]/div/div[1]/div[1]/c-wiz[5]/section/header/div/div[3]/span/div/button/i')"
   ]
  },
  {
   "cell_type": "code",
   "execution_count": 17,
   "id": "552de7c1",
   "metadata": {},
   "outputs": [],
   "source": [
    "# wait for the new window to open \n",
    "time.sleep(15)"
   ]
  },
  {
   "cell_type": "code",
   "execution_count": 20,
   "id": "c992a97f",
   "metadata": {},
   "outputs": [],
   "source": [
    "def scrape_name(driver_name, container):\n",
    "    \"\"\"\n",
    "    A private function to extract the name of the app reviewer.\n",
    "    Its first argument should be the assigned variable name to \n",
    "    a WebElement object. While the second argument should be a\n",
    "    list datatype for storing the extracted name.\n",
    "    \"\"\"\n",
    "    reviewer_name = driver_name.find_element(By.CLASS_NAME, \"X5PpBb\").text\n",
    "    container.append(reviewer_name)"
   ]
  },
  {
   "cell_type": "code",
   "execution_count": 21,
   "id": "ba4c4c89",
   "metadata": {},
   "outputs": [],
   "source": [
    "def scrape_rating(driver_name, container):\n",
    "    \"\"\"\n",
    "    A private function to extract the rating count of the app \n",
    "    review.\n",
    "    Its first argument should be the assigned variable name to \n",
    "    a WebElement object. While the second argument should be a\n",
    "    list datatype for storing the extracted ratings.\n",
    "    \"\"\"\n",
    "    star_rating = driver_name.find_element(By.CLASS_NAME, \"iXRFPc\").get_attribute(\"aria-label\").split(None, 2)[1]\n",
    "    container.append(star_rating)"
   ]
  },
  {
   "cell_type": "code",
   "execution_count": 22,
   "id": "996e2da6",
   "metadata": {},
   "outputs": [],
   "source": [
    "def scrape_date(driver_name, container):\n",
    "    \"\"\"\n",
    "    A private function to extract the date of review.\n",
    "    Its first argument should be the assigned variable name to \n",
    "    a WebElement object. While the second argument should be a\n",
    "    list datatype for storing the extracted date.\n",
    "    \"\"\"\n",
    "    review_date = driver_name.find_element(By.CLASS_NAME, \"bp9Aid\").text\n",
    "    container.append(review_date)"
   ]
  },
  {
   "cell_type": "code",
   "execution_count": 23,
   "id": "e858f38d",
   "metadata": {},
   "outputs": [],
   "source": [
    "def scrape_review(driver_name, container):\n",
    "    \"\"\"\n",
    "    A private function to extract the body of the review.\n",
    "    Its first argument should be the assigned variable name to \n",
    "    a WebElement object. While the second argument should be a\n",
    "    list datatype for storing the extracted date.\n",
    "    \"\"\"\n",
    "    review_note = driver_name.find_element(By.CLASS_NAME, \"h3YV2d\").text\n",
    "    container.append(review_note)"
   ]
  },
  {
   "cell_type": "code",
   "execution_count": 24,
   "id": "16c637b7",
   "metadata": {},
   "outputs": [],
   "source": [
    "def scrape_num(driver_name, container):\n",
    "    \"\"\"\n",
    "    A private function to extract the number of people that\n",
    "    found the review helpful.\n",
    "    Its first argument should be the assigned variable name to \n",
    "    a WebElement object. While the second argument should be a\n",
    "    list datatype for storing the extracted number.\n",
    "    \"\"\"\n",
    "    try:\n",
    "        yes_num = driver_name.find_element(By.CLASS_NAME, \"AJTPZc\").text.split(None, 2)[0]\n",
    "        container.append(yes_num)\n",
    "        \n",
    "    except NoSuchElementException:\n",
    "        container.append(\"None\")"
   ]
  },
  {
   "cell_type": "code",
   "execution_count": 25,
   "id": "3266b18e",
   "metadata": {},
   "outputs": [],
   "source": [
    "# create a dictionary to store extracted data\n",
    "app_review = {\n",
    "    'name': [],\n",
    "    'star_rating': [],\n",
    "    'date': [],\n",
    "    'review': [],\n",
    "    'people': [],\n",
    "    'device': []\n",
    "}"
   ]
  },
  {
   "cell_type": "code",
   "execution_count": 26,
   "id": "455b797c",
   "metadata": {},
   "outputs": [],
   "source": [
    "def scrape_all(driver_name):\n",
    "    \"\"\"\n",
    "    A private function to extract all data from a review \n",
    "    including the name of the reviewer; the star rating given;\n",
    "    the date of review; the body of the review; and the number\n",
    "    of people that found the review to be helpful.\n",
    "    Its only argument should be the assigned variable name to \n",
    "    a WebElement object.\n",
    "    \"\"\"\n",
    "    scrape_name(driver_name, app_review['name'])\n",
    "    scrape_rating(driver_name, app_review['star_rating'])\n",
    "    scrape_date(driver_name, app_review['date'])\n",
    "    scrape_review(driver_name, app_review['review'])\n",
    "    scrape_num(driver_name, app_review['people'])"
   ]
  },
  {
   "cell_type": "code",
   "execution_count": null,
   "id": "ac745a66",
   "metadata": {},
   "outputs": [],
   "source": [
    "# set xpaths for the dropdown arrow used for filtering by phone, chromebook, or tablet\n",
    "menu = '//*[@id=\"formFactor_{}\"]/div[2]/i'\n",
    "\n",
    "# set xpaths for the menu review options:'Phone', 'Chromebook', and 'Tablet'\n",
    "xbase = '//*[@id=\"yDmH0d\"]/div[5]/div[2]/div/div/div/div/div[2]/div[2]/div/div/span[{}]'"
   ]
  },
  {
   "cell_type": "code",
   "execution_count": 28,
   "id": "467aca9d",
   "metadata": {},
   "outputs": [],
   "source": [
    "def scroll_down(action, section):\n",
    "    action.move_to_element(section).click().send_keys(Keys.PAGE_DOWN).perform()   "
   ]
  },
  {
   "cell_type": "code",
   "execution_count": 29,
   "id": "83262667",
   "metadata": {},
   "outputs": [],
   "source": [
    "def terminal_scroll(limit):\n",
    "    actions = AC(driver)\n",
    "    while True:\n",
    "        try:\n",
    "            reviews_section = driver.find_element(By.XPATH, '//*[@id=\"yDmH0d\"]/div[5]/div[2]/div/div/div/div/div[2]/div/div[2]/div[{}]'.format(limit))\n",
    "            scroll_down(actions, reviews_section)\n",
    "            print(limit)\n",
    "            time.sleep(7)\n",
    "            limit += 20\n",
    "            scroll_down(actions, reviews_section)\n",
    "            check = limit + 1\n",
    "            \n",
    "        except NoSuchElementException:\n",
    "            try:\n",
    "                while limit <= check :\n",
    "                    reviews_section = driver.find_element(By.XPATH, '//*[@id=\"yDmH0d\"]/div[5]/div[2]/div/div/div/div/div[2]/div/div[2]/div[{}]'.format(check))\n",
    "                    scroll_down(actions, reviews_section)\n",
    "                    time.sleep(7)\n",
    "                    scroll_down(actions, reviews_section)\n",
    "                    check += 1\n",
    "                    \n",
    "            except NoSuchElementException:\n",
    "                # debugging\n",
    "                print(limit, check)\n",
    "                break"
   ]
  },
  {
   "cell_type": "code",
   "execution_count": 30,
   "id": "af05c741",
   "metadata": {},
   "outputs": [],
   "source": [
    "def get_phone_reviews(x):\n",
    "    time.sleep(45)\n",
    "    terminal_scroll(x)\n",
    "    reviews = driver.find_elements(By.CLASS_NAME, \"RHo1pe\")\n",
    "    for review in reviews:\n",
    "        scrape_all(review)\n",
    "        app_review['device'].append('Phone')\n",
    "    # click dropdown arrow    \n",
    "    klick(menu.format(2))\n",
    "    # select tablet reviews\n",
    "    try:\n",
    "        klick(xbase.format(3))\n",
    "        \n",
    "    except TimeoutException:\n",
    "        klick(xbase.format(2))"
   ]
  },
  {
   "cell_type": "code",
   "execution_count": 31,
   "id": "b3a9af0b",
   "metadata": {},
   "outputs": [],
   "source": [
    "def get_tablet_reviews(x):\n",
    "    time.sleep(45)\n",
    "    terminal_scroll(x)\n",
    "    reviews = driver.find_elements(By.CLASS_NAME, \"RHo1pe\")\n",
    "    for review in reviews:\n",
    "        scrape_all(review)\n",
    "        app_review['device'].append('Tablet')\n",
    "    # click dropdown arrow\n",
    "    klick(menu.format(3))\n",
    "    # select chromebook reviews//*[@id=\"formFactor_3\"]/div[2]/i\n",
    "    klick(xbase.format(2))\n",
    "    time.sleep(45)\n",
    "    next_reviews = driver.find_elements(By.CLASS_NAME, \"RHo1pe\")\n",
    "    # use if-else to check if tablet or chromebook was selected \n",
    "    if reviews[0] == next_reviews[0]:\n",
    "        print('No Chromebook reviews')\n",
    "        \n",
    "    else:\n",
    "        print(\"Run 'get_chromebook_reviews'\")"
   ]
  },
  {
   "cell_type": "code",
   "execution_count": 32,
   "id": "717607db",
   "metadata": {},
   "outputs": [],
   "source": [
    "def get_chromebook_reviews(x):\n",
    "    time.sleep(45)\n",
    "    terminal_scroll(x)\n",
    "    reviews = driver.find_elements(By.CLASS_NAME, \"RHo1pe\")\n",
    "    for review in reviews:\n",
    "        scrape_all(review)\n",
    "        app_review['device'].append('Chromebook')\n",
    "    # click dropdown arrow\n",
    "    klick(menu.format(5))\n",
    "    # select phone reviews\n",
    "    klick(xbase.format(1))\n",
    "    time.sleep(45)"
   ]
  },
  {
   "cell_type": "code",
   "execution_count": 33,
   "id": "ceabf14f",
   "metadata": {},
   "outputs": [
    {
     "ename": "UnboundLocalError",
     "evalue": "cannot access local variable 'check' where it is not associated with a value",
     "output_type": "error",
     "traceback": [
      "\u001b[1;31m---------------------------------------------------------------------------\u001b[0m",
      "\u001b[1;31mNoSuchElementException\u001b[0m                    Traceback (most recent call last)",
      "Cell \u001b[1;32mIn[29], line 5\u001b[0m, in \u001b[0;36mterminal_scroll\u001b[1;34m(limit)\u001b[0m\n\u001b[0;32m      4\u001b[0m \u001b[38;5;28;01mtry\u001b[39;00m:\n\u001b[1;32m----> 5\u001b[0m     reviews_section \u001b[38;5;241m=\u001b[39m \u001b[43mdriver\u001b[49m\u001b[38;5;241;43m.\u001b[39;49m\u001b[43mfind_element\u001b[49m\u001b[43m(\u001b[49m\u001b[43mBy\u001b[49m\u001b[38;5;241;43m.\u001b[39;49m\u001b[43mXPATH\u001b[49m\u001b[43m,\u001b[49m\u001b[43m \u001b[49m\u001b[38;5;124;43m'\u001b[39;49m\u001b[38;5;124;43m//*[@id=\u001b[39;49m\u001b[38;5;124;43m\"\u001b[39;49m\u001b[38;5;124;43myDmH0d\u001b[39;49m\u001b[38;5;124;43m\"\u001b[39;49m\u001b[38;5;124;43m]/div[5]/div[2]/div/div/div/div/div[2]/div/div[2]/div[\u001b[39;49m\u001b[38;5;132;43;01m{}\u001b[39;49;00m\u001b[38;5;124;43m]\u001b[39;49m\u001b[38;5;124;43m'\u001b[39;49m\u001b[38;5;241;43m.\u001b[39;49m\u001b[43mformat\u001b[49m\u001b[43m(\u001b[49m\u001b[43mlimit\u001b[49m\u001b[43m)\u001b[49m\u001b[43m)\u001b[49m\n\u001b[0;32m      6\u001b[0m     scroll_down(actions, reviews_section)\n",
      "File \u001b[1;32mc:\\Users\\jiyaa\\AppData\\Local\\Programs\\Python\\Python312\\Lib\\site-packages\\selenium\\webdriver\\remote\\webdriver.py:898\u001b[0m, in \u001b[0;36mWebDriver.find_element\u001b[1;34m(self, by, value)\u001b[0m\n\u001b[0;32m    896\u001b[0m     \u001b[38;5;28;01mreturn\u001b[39;00m elements[\u001b[38;5;241m0\u001b[39m]\n\u001b[1;32m--> 898\u001b[0m \u001b[38;5;28;01mreturn\u001b[39;00m \u001b[38;5;28;43mself\u001b[39;49m\u001b[38;5;241;43m.\u001b[39;49m\u001b[43mexecute\u001b[49m\u001b[43m(\u001b[49m\u001b[43mCommand\u001b[49m\u001b[38;5;241;43m.\u001b[39;49m\u001b[43mFIND_ELEMENT\u001b[49m\u001b[43m,\u001b[49m\u001b[43m \u001b[49m\u001b[43m{\u001b[49m\u001b[38;5;124;43m\"\u001b[39;49m\u001b[38;5;124;43musing\u001b[39;49m\u001b[38;5;124;43m\"\u001b[39;49m\u001b[43m:\u001b[49m\u001b[43m \u001b[49m\u001b[43mby\u001b[49m\u001b[43m,\u001b[49m\u001b[43m \u001b[49m\u001b[38;5;124;43m\"\u001b[39;49m\u001b[38;5;124;43mvalue\u001b[39;49m\u001b[38;5;124;43m\"\u001b[39;49m\u001b[43m:\u001b[49m\u001b[43m \u001b[49m\u001b[43mvalue\u001b[49m\u001b[43m}\u001b[49m\u001b[43m)\u001b[49m[\u001b[38;5;124m\"\u001b[39m\u001b[38;5;124mvalue\u001b[39m\u001b[38;5;124m\"\u001b[39m]\n",
      "File \u001b[1;32mc:\\Users\\jiyaa\\AppData\\Local\\Programs\\Python\\Python312\\Lib\\site-packages\\selenium\\webdriver\\remote\\webdriver.py:429\u001b[0m, in \u001b[0;36mWebDriver.execute\u001b[1;34m(self, driver_command, params)\u001b[0m\n\u001b[0;32m    428\u001b[0m \u001b[38;5;28;01mif\u001b[39;00m response:\n\u001b[1;32m--> 429\u001b[0m     \u001b[38;5;28;43mself\u001b[39;49m\u001b[38;5;241;43m.\u001b[39;49m\u001b[43merror_handler\u001b[49m\u001b[38;5;241;43m.\u001b[39;49m\u001b[43mcheck_response\u001b[49m\u001b[43m(\u001b[49m\u001b[43mresponse\u001b[49m\u001b[43m)\u001b[49m\n\u001b[0;32m    430\u001b[0m     response[\u001b[38;5;124m\"\u001b[39m\u001b[38;5;124mvalue\u001b[39m\u001b[38;5;124m\"\u001b[39m] \u001b[38;5;241m=\u001b[39m \u001b[38;5;28mself\u001b[39m\u001b[38;5;241m.\u001b[39m_unwrap_value(response\u001b[38;5;241m.\u001b[39mget(\u001b[38;5;124m\"\u001b[39m\u001b[38;5;124mvalue\u001b[39m\u001b[38;5;124m\"\u001b[39m, \u001b[38;5;28;01mNone\u001b[39;00m))\n",
      "File \u001b[1;32mc:\\Users\\jiyaa\\AppData\\Local\\Programs\\Python\\Python312\\Lib\\site-packages\\selenium\\webdriver\\remote\\errorhandler.py:232\u001b[0m, in \u001b[0;36mErrorHandler.check_response\u001b[1;34m(self, response)\u001b[0m\n\u001b[0;32m    231\u001b[0m     \u001b[38;5;28;01mraise\u001b[39;00m exception_class(message, screen, stacktrace, alert_text)  \u001b[38;5;66;03m# type: ignore[call-arg]  # mypy is not smart enough here\u001b[39;00m\n\u001b[1;32m--> 232\u001b[0m \u001b[38;5;28;01mraise\u001b[39;00m exception_class(message, screen, stacktrace)\n",
      "\u001b[1;31mNoSuchElementException\u001b[0m: Message: no such element: Unable to locate element: {\"method\":\"xpath\",\"selector\":\"//*[@id=\"yDmH0d\"]/div[5]/div[2]/div/div/div/div/div[2]/div/div[2]/div[20]\"}\n  (Session info: chrome=133.0.6943.127); For documentation on this error, please visit: https://www.selenium.dev/documentation/webdriver/troubleshooting/errors#no-such-element-exception\nStacktrace:\n\tGetHandleVerifier [0x00007FF7FD816EE5+28773]\n\t(No symbol) [0x00007FF7FD7825D0]\n\t(No symbol) [0x00007FF7FD618FAA]\n\t(No symbol) [0x00007FF7FD66F286]\n\t(No symbol) [0x00007FF7FD66F4BC]\n\t(No symbol) [0x00007FF7FD6C2A27]\n\t(No symbol) [0x00007FF7FD69728F]\n\t(No symbol) [0x00007FF7FD6BF6F3]\n\t(No symbol) [0x00007FF7FD697023]\n\t(No symbol) [0x00007FF7FD65FF5E]\n\t(No symbol) [0x00007FF7FD6611E3]\n\tGetHandleVerifier [0x00007FF7FDB6422D+3490733]\n\tGetHandleVerifier [0x00007FF7FDB7BA13+3586963]\n\tGetHandleVerifier [0x00007FF7FDB7144D+3544525]\n\tGetHandleVerifier [0x00007FF7FD8DC9AA+838442]\n\t(No symbol) [0x00007FF7FD78D01F]\n\t(No symbol) [0x00007FF7FD7895E4]\n\t(No symbol) [0x00007FF7FD789786]\n\t(No symbol) [0x00007FF7FD778CB9]\n\tBaseThreadInitThunk [0x00007FFADF37259D+29]\n\tRtlUserThreadStart [0x00007FFAE0CEAF38+40]\n",
      "\nDuring handling of the above exception, another exception occurred:\n",
      "\u001b[1;31mUnboundLocalError\u001b[0m                         Traceback (most recent call last)",
      "Cell \u001b[1;32mIn[33], line 1\u001b[0m\n\u001b[1;32m----> 1\u001b[0m \u001b[43mget_phone_reviews\u001b[49m\u001b[43m(\u001b[49m\u001b[38;5;241;43m20\u001b[39;49m\u001b[43m)\u001b[49m\n",
      "Cell \u001b[1;32mIn[30], line 3\u001b[0m, in \u001b[0;36mget_phone_reviews\u001b[1;34m(x)\u001b[0m\n\u001b[0;32m      1\u001b[0m \u001b[38;5;28;01mdef\u001b[39;00m \u001b[38;5;21mget_phone_reviews\u001b[39m(x):\n\u001b[0;32m      2\u001b[0m     time\u001b[38;5;241m.\u001b[39msleep(\u001b[38;5;241m45\u001b[39m)\n\u001b[1;32m----> 3\u001b[0m     \u001b[43mterminal_scroll\u001b[49m\u001b[43m(\u001b[49m\u001b[43mx\u001b[49m\u001b[43m)\u001b[49m\n\u001b[0;32m      4\u001b[0m     reviews \u001b[38;5;241m=\u001b[39m driver\u001b[38;5;241m.\u001b[39mfind_elements(By\u001b[38;5;241m.\u001b[39mCLASS_NAME, \u001b[38;5;124m\"\u001b[39m\u001b[38;5;124mRHo1pe\u001b[39m\u001b[38;5;124m\"\u001b[39m)\n\u001b[0;32m      5\u001b[0m     \u001b[38;5;28;01mfor\u001b[39;00m review \u001b[38;5;129;01min\u001b[39;00m reviews:\n",
      "Cell \u001b[1;32mIn[29], line 15\u001b[0m, in \u001b[0;36mterminal_scroll\u001b[1;34m(limit)\u001b[0m\n\u001b[0;32m     13\u001b[0m \u001b[38;5;28;01mexcept\u001b[39;00m NoSuchElementException:\n\u001b[0;32m     14\u001b[0m     \u001b[38;5;28;01mtry\u001b[39;00m:\n\u001b[1;32m---> 15\u001b[0m         \u001b[38;5;28;01mwhile\u001b[39;00m limit \u001b[38;5;241m<\u001b[39m\u001b[38;5;241m=\u001b[39m \u001b[43mcheck\u001b[49m :\n\u001b[0;32m     16\u001b[0m             reviews_section \u001b[38;5;241m=\u001b[39m driver\u001b[38;5;241m.\u001b[39mfind_element(By\u001b[38;5;241m.\u001b[39mXPATH, \u001b[38;5;124m'\u001b[39m\u001b[38;5;124m//*[@id=\u001b[39m\u001b[38;5;124m\"\u001b[39m\u001b[38;5;124myDmH0d\u001b[39m\u001b[38;5;124m\"\u001b[39m\u001b[38;5;124m]/div[5]/div[2]/div/div/div/div/div[2]/div/div[2]/div[\u001b[39m\u001b[38;5;132;01m{}\u001b[39;00m\u001b[38;5;124m]\u001b[39m\u001b[38;5;124m'\u001b[39m\u001b[38;5;241m.\u001b[39mformat(check))\n\u001b[0;32m     17\u001b[0m             scroll_down(actions, reviews_section)\n",
      "\u001b[1;31mUnboundLocalError\u001b[0m: cannot access local variable 'check' where it is not associated with a value"
     ]
    }
   ],
   "source": [
    "get_phone_reviews(20)"
   ]
  },
  {
   "cell_type": "code",
   "execution_count": 34,
   "id": "40098e2b",
   "metadata": {},
   "outputs": [
    {
     "ename": "UnboundLocalError",
     "evalue": "cannot access local variable 'check' where it is not associated with a value",
     "output_type": "error",
     "traceback": [
      "\u001b[1;31m---------------------------------------------------------------------------\u001b[0m",
      "\u001b[1;31mNoSuchElementException\u001b[0m                    Traceback (most recent call last)",
      "Cell \u001b[1;32mIn[29], line 5\u001b[0m, in \u001b[0;36mterminal_scroll\u001b[1;34m(limit)\u001b[0m\n\u001b[0;32m      4\u001b[0m \u001b[38;5;28;01mtry\u001b[39;00m:\n\u001b[1;32m----> 5\u001b[0m     reviews_section \u001b[38;5;241m=\u001b[39m \u001b[43mdriver\u001b[49m\u001b[38;5;241;43m.\u001b[39;49m\u001b[43mfind_element\u001b[49m\u001b[43m(\u001b[49m\u001b[43mBy\u001b[49m\u001b[38;5;241;43m.\u001b[39;49m\u001b[43mXPATH\u001b[49m\u001b[43m,\u001b[49m\u001b[43m \u001b[49m\u001b[38;5;124;43m'\u001b[39;49m\u001b[38;5;124;43m//*[@id=\u001b[39;49m\u001b[38;5;124;43m\"\u001b[39;49m\u001b[38;5;124;43myDmH0d\u001b[39;49m\u001b[38;5;124;43m\"\u001b[39;49m\u001b[38;5;124;43m]/div[5]/div[2]/div/div/div/div/div[2]/div/div[2]/div[\u001b[39;49m\u001b[38;5;132;43;01m{}\u001b[39;49;00m\u001b[38;5;124;43m]\u001b[39;49m\u001b[38;5;124;43m'\u001b[39;49m\u001b[38;5;241;43m.\u001b[39;49m\u001b[43mformat\u001b[49m\u001b[43m(\u001b[49m\u001b[43mlimit\u001b[49m\u001b[43m)\u001b[49m\u001b[43m)\u001b[49m\n\u001b[0;32m      6\u001b[0m     scroll_down(actions, reviews_section)\n",
      "File \u001b[1;32mc:\\Users\\jiyaa\\AppData\\Local\\Programs\\Python\\Python312\\Lib\\site-packages\\selenium\\webdriver\\remote\\webdriver.py:898\u001b[0m, in \u001b[0;36mWebDriver.find_element\u001b[1;34m(self, by, value)\u001b[0m\n\u001b[0;32m    896\u001b[0m     \u001b[38;5;28;01mreturn\u001b[39;00m elements[\u001b[38;5;241m0\u001b[39m]\n\u001b[1;32m--> 898\u001b[0m \u001b[38;5;28;01mreturn\u001b[39;00m \u001b[38;5;28;43mself\u001b[39;49m\u001b[38;5;241;43m.\u001b[39;49m\u001b[43mexecute\u001b[49m\u001b[43m(\u001b[49m\u001b[43mCommand\u001b[49m\u001b[38;5;241;43m.\u001b[39;49m\u001b[43mFIND_ELEMENT\u001b[49m\u001b[43m,\u001b[49m\u001b[43m \u001b[49m\u001b[43m{\u001b[49m\u001b[38;5;124;43m\"\u001b[39;49m\u001b[38;5;124;43musing\u001b[39;49m\u001b[38;5;124;43m\"\u001b[39;49m\u001b[43m:\u001b[49m\u001b[43m \u001b[49m\u001b[43mby\u001b[49m\u001b[43m,\u001b[49m\u001b[43m \u001b[49m\u001b[38;5;124;43m\"\u001b[39;49m\u001b[38;5;124;43mvalue\u001b[39;49m\u001b[38;5;124;43m\"\u001b[39;49m\u001b[43m:\u001b[49m\u001b[43m \u001b[49m\u001b[43mvalue\u001b[49m\u001b[43m}\u001b[49m\u001b[43m)\u001b[49m[\u001b[38;5;124m\"\u001b[39m\u001b[38;5;124mvalue\u001b[39m\u001b[38;5;124m\"\u001b[39m]\n",
      "File \u001b[1;32mc:\\Users\\jiyaa\\AppData\\Local\\Programs\\Python\\Python312\\Lib\\site-packages\\selenium\\webdriver\\remote\\webdriver.py:429\u001b[0m, in \u001b[0;36mWebDriver.execute\u001b[1;34m(self, driver_command, params)\u001b[0m\n\u001b[0;32m    428\u001b[0m \u001b[38;5;28;01mif\u001b[39;00m response:\n\u001b[1;32m--> 429\u001b[0m     \u001b[38;5;28;43mself\u001b[39;49m\u001b[38;5;241;43m.\u001b[39;49m\u001b[43merror_handler\u001b[49m\u001b[38;5;241;43m.\u001b[39;49m\u001b[43mcheck_response\u001b[49m\u001b[43m(\u001b[49m\u001b[43mresponse\u001b[49m\u001b[43m)\u001b[49m\n\u001b[0;32m    430\u001b[0m     response[\u001b[38;5;124m\"\u001b[39m\u001b[38;5;124mvalue\u001b[39m\u001b[38;5;124m\"\u001b[39m] \u001b[38;5;241m=\u001b[39m \u001b[38;5;28mself\u001b[39m\u001b[38;5;241m.\u001b[39m_unwrap_value(response\u001b[38;5;241m.\u001b[39mget(\u001b[38;5;124m\"\u001b[39m\u001b[38;5;124mvalue\u001b[39m\u001b[38;5;124m\"\u001b[39m, \u001b[38;5;28;01mNone\u001b[39;00m))\n",
      "File \u001b[1;32mc:\\Users\\jiyaa\\AppData\\Local\\Programs\\Python\\Python312\\Lib\\site-packages\\selenium\\webdriver\\remote\\errorhandler.py:232\u001b[0m, in \u001b[0;36mErrorHandler.check_response\u001b[1;34m(self, response)\u001b[0m\n\u001b[0;32m    231\u001b[0m     \u001b[38;5;28;01mraise\u001b[39;00m exception_class(message, screen, stacktrace, alert_text)  \u001b[38;5;66;03m# type: ignore[call-arg]  # mypy is not smart enough here\u001b[39;00m\n\u001b[1;32m--> 232\u001b[0m \u001b[38;5;28;01mraise\u001b[39;00m exception_class(message, screen, stacktrace)\n",
      "\u001b[1;31mNoSuchElementException\u001b[0m: Message: no such element: Unable to locate element: {\"method\":\"xpath\",\"selector\":\"//*[@id=\"yDmH0d\"]/div[5]/div[2]/div/div/div/div/div[2]/div/div[2]/div[8]\"}\n  (Session info: chrome=133.0.6943.127); For documentation on this error, please visit: https://www.selenium.dev/documentation/webdriver/troubleshooting/errors#no-such-element-exception\nStacktrace:\n\tGetHandleVerifier [0x00007FF7FD816EE5+28773]\n\t(No symbol) [0x00007FF7FD7825D0]\n\t(No symbol) [0x00007FF7FD618FAA]\n\t(No symbol) [0x00007FF7FD66F286]\n\t(No symbol) [0x00007FF7FD66F4BC]\n\t(No symbol) [0x00007FF7FD6C2A27]\n\t(No symbol) [0x00007FF7FD69728F]\n\t(No symbol) [0x00007FF7FD6BF6F3]\n\t(No symbol) [0x00007FF7FD697023]\n\t(No symbol) [0x00007FF7FD65FF5E]\n\t(No symbol) [0x00007FF7FD6611E3]\n\tGetHandleVerifier [0x00007FF7FDB6422D+3490733]\n\tGetHandleVerifier [0x00007FF7FDB7BA13+3586963]\n\tGetHandleVerifier [0x00007FF7FDB7144D+3544525]\n\tGetHandleVerifier [0x00007FF7FD8DC9AA+838442]\n\t(No symbol) [0x00007FF7FD78D01F]\n\t(No symbol) [0x00007FF7FD7895E4]\n\t(No symbol) [0x00007FF7FD789786]\n\t(No symbol) [0x00007FF7FD778CB9]\n\tBaseThreadInitThunk [0x00007FFADF37259D+29]\n\tRtlUserThreadStart [0x00007FFAE0CEAF38+40]\n",
      "\nDuring handling of the above exception, another exception occurred:\n",
      "\u001b[1;31mUnboundLocalError\u001b[0m                         Traceback (most recent call last)",
      "Cell \u001b[1;32mIn[34], line 1\u001b[0m\n\u001b[1;32m----> 1\u001b[0m \u001b[43mget_tablet_reviews\u001b[49m\u001b[43m(\u001b[49m\u001b[38;5;241;43m8\u001b[39;49m\u001b[43m)\u001b[49m\n",
      "Cell \u001b[1;32mIn[31], line 3\u001b[0m, in \u001b[0;36mget_tablet_reviews\u001b[1;34m(x)\u001b[0m\n\u001b[0;32m      1\u001b[0m \u001b[38;5;28;01mdef\u001b[39;00m \u001b[38;5;21mget_tablet_reviews\u001b[39m(x):\n\u001b[0;32m      2\u001b[0m     time\u001b[38;5;241m.\u001b[39msleep(\u001b[38;5;241m45\u001b[39m)\n\u001b[1;32m----> 3\u001b[0m     \u001b[43mterminal_scroll\u001b[49m\u001b[43m(\u001b[49m\u001b[43mx\u001b[49m\u001b[43m)\u001b[49m\n\u001b[0;32m      4\u001b[0m     reviews \u001b[38;5;241m=\u001b[39m driver\u001b[38;5;241m.\u001b[39mfind_elements(By\u001b[38;5;241m.\u001b[39mCLASS_NAME, \u001b[38;5;124m\"\u001b[39m\u001b[38;5;124mRHo1pe\u001b[39m\u001b[38;5;124m\"\u001b[39m)\n\u001b[0;32m      5\u001b[0m     \u001b[38;5;28;01mfor\u001b[39;00m review \u001b[38;5;129;01min\u001b[39;00m reviews:\n",
      "Cell \u001b[1;32mIn[29], line 15\u001b[0m, in \u001b[0;36mterminal_scroll\u001b[1;34m(limit)\u001b[0m\n\u001b[0;32m     13\u001b[0m \u001b[38;5;28;01mexcept\u001b[39;00m NoSuchElementException:\n\u001b[0;32m     14\u001b[0m     \u001b[38;5;28;01mtry\u001b[39;00m:\n\u001b[1;32m---> 15\u001b[0m         \u001b[38;5;28;01mwhile\u001b[39;00m limit \u001b[38;5;241m<\u001b[39m\u001b[38;5;241m=\u001b[39m \u001b[43mcheck\u001b[49m :\n\u001b[0;32m     16\u001b[0m             reviews_section \u001b[38;5;241m=\u001b[39m driver\u001b[38;5;241m.\u001b[39mfind_element(By\u001b[38;5;241m.\u001b[39mXPATH, \u001b[38;5;124m'\u001b[39m\u001b[38;5;124m//*[@id=\u001b[39m\u001b[38;5;124m\"\u001b[39m\u001b[38;5;124myDmH0d\u001b[39m\u001b[38;5;124m\"\u001b[39m\u001b[38;5;124m]/div[5]/div[2]/div/div/div/div/div[2]/div/div[2]/div[\u001b[39m\u001b[38;5;132;01m{}\u001b[39;00m\u001b[38;5;124m]\u001b[39m\u001b[38;5;124m'\u001b[39m\u001b[38;5;241m.\u001b[39mformat(check))\n\u001b[0;32m     17\u001b[0m             scroll_down(actions, reviews_section)\n",
      "\u001b[1;31mUnboundLocalError\u001b[0m: cannot access local variable 'check' where it is not associated with a value"
     ]
    }
   ],
   "source": [
    "get_tablet_reviews(8)"
   ]
  },
  {
   "cell_type": "code",
   "execution_count": 45,
   "id": "7bfdcf32",
   "metadata": {},
   "outputs": [],
   "source": [
    "driver.quit()"
   ]
  },
  {
   "cell_type": "code",
   "execution_count": 35,
   "id": "53c298b7",
   "metadata": {},
   "outputs": [
    {
     "data": {
      "text/html": [
       "<div>\n",
       "<style scoped>\n",
       "    .dataframe tbody tr th:only-of-type {\n",
       "        vertical-align: middle;\n",
       "    }\n",
       "\n",
       "    .dataframe tbody tr th {\n",
       "        vertical-align: top;\n",
       "    }\n",
       "\n",
       "    .dataframe thead th {\n",
       "        text-align: right;\n",
       "    }\n",
       "</style>\n",
       "<table border=\"1\" class=\"dataframe\">\n",
       "  <thead>\n",
       "    <tr style=\"text-align: right;\">\n",
       "      <th></th>\n",
       "      <th>name</th>\n",
       "      <th>star_rating</th>\n",
       "      <th>date</th>\n",
       "      <th>review</th>\n",
       "      <th>people</th>\n",
       "      <th>device</th>\n",
       "    </tr>\n",
       "  </thead>\n",
       "  <tbody>\n",
       "  </tbody>\n",
       "</table>\n",
       "</div>"
      ],
      "text/plain": [
       "Empty DataFrame\n",
       "Columns: [name, star_rating, date, review, people, device]\n",
       "Index: []"
      ]
     },
     "execution_count": 35,
     "metadata": {},
     "output_type": "execute_result"
    }
   ],
   "source": [
    "# store the gathered data into a pandas dataframe\n",
    "df = pd.DataFrame(app_review)\n",
    "df"
   ]
  },
  {
   "cell_type": "code",
   "execution_count": 44,
   "id": "44a4b752",
   "metadata": {},
   "outputs": [],
   "source": [
    "# save data to csv file\n",
    "df.to_csv('learn-html-pro.csv', index=False)"
   ]
  },
  {
   "cell_type": "code",
   "execution_count": null,
   "id": "d07deaa4",
   "metadata": {},
   "outputs": [],
   "source": []
  },
  {
   "cell_type": "code",
   "execution_count": null,
   "id": "ec3c19b6",
   "metadata": {},
   "outputs": [],
   "source": []
  }
 ],
 "metadata": {
  "kernelspec": {
   "display_name": "Python 3",
   "language": "python",
   "name": "python3"
  },
  "language_info": {
   "codemirror_mode": {
    "name": "ipython",
    "version": 3
   },
   "file_extension": ".py",
   "mimetype": "text/x-python",
   "name": "python",
   "nbconvert_exporter": "python",
   "pygments_lexer": "ipython3",
   "version": "3.12.8"
  }
 },
 "nbformat": 4,
 "nbformat_minor": 5
}
